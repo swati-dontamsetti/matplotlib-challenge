{
 "cells": [
  {
   "cell_type": "markdown",
   "metadata": {},
   "source": [
    "## Observations and Insights"
   ]
  },
  {
   "cell_type": "markdown",
   "metadata": {},
   "source": [
    "* The drug regimens Capomulin and Ramicane are the most prolifically used.\n",
    "\n",
    "\n",
    "* When mouse s185 was treated with Capomulin, the tumor volume present in her decreased over time.\n",
    "\n",
    "\n",
    "* There is a positive correlation between the weight of each mouse that was treated with the Capomulin regimen and the average tumor volume. And since the p-value is 1.32e-07, which is less than 0.05, it is statistically significant."
   ]
  },
  {
   "cell_type": "markdown",
   "metadata": {},
   "source": [
    "## Dependencies and starter code"
   ]
  },
  {
   "cell_type": "code",
   "execution_count": 1,
   "metadata": {},
   "outputs": [
    {
     "data": {
      "text/html": [
       "<div>\n",
       "<style scoped>\n",
       "    .dataframe tbody tr th:only-of-type {\n",
       "        vertical-align: middle;\n",
       "    }\n",
       "\n",
       "    .dataframe tbody tr th {\n",
       "        vertical-align: top;\n",
       "    }\n",
       "\n",
       "    .dataframe thead th {\n",
       "        text-align: right;\n",
       "    }\n",
       "</style>\n",
       "<table border=\"1\" class=\"dataframe\">\n",
       "  <thead>\n",
       "    <tr style=\"text-align: right;\">\n",
       "      <th></th>\n",
       "      <th>Mouse ID</th>\n",
       "      <th>Drug Regimen</th>\n",
       "      <th>Sex</th>\n",
       "      <th>Age_months</th>\n",
       "      <th>Weight (g)</th>\n",
       "      <th>Timepoint</th>\n",
       "      <th>Tumor Volume (mm3)</th>\n",
       "      <th>Metastatic Sites</th>\n",
       "    </tr>\n",
       "  </thead>\n",
       "  <tbody>\n",
       "    <tr>\n",
       "      <td>0</td>\n",
       "      <td>k403</td>\n",
       "      <td>Ramicane</td>\n",
       "      <td>Male</td>\n",
       "      <td>21</td>\n",
       "      <td>16</td>\n",
       "      <td>0</td>\n",
       "      <td>45.000000</td>\n",
       "      <td>0</td>\n",
       "    </tr>\n",
       "    <tr>\n",
       "      <td>1</td>\n",
       "      <td>k403</td>\n",
       "      <td>Ramicane</td>\n",
       "      <td>Male</td>\n",
       "      <td>21</td>\n",
       "      <td>16</td>\n",
       "      <td>5</td>\n",
       "      <td>38.825898</td>\n",
       "      <td>0</td>\n",
       "    </tr>\n",
       "    <tr>\n",
       "      <td>2</td>\n",
       "      <td>k403</td>\n",
       "      <td>Ramicane</td>\n",
       "      <td>Male</td>\n",
       "      <td>21</td>\n",
       "      <td>16</td>\n",
       "      <td>10</td>\n",
       "      <td>35.014271</td>\n",
       "      <td>1</td>\n",
       "    </tr>\n",
       "    <tr>\n",
       "      <td>3</td>\n",
       "      <td>k403</td>\n",
       "      <td>Ramicane</td>\n",
       "      <td>Male</td>\n",
       "      <td>21</td>\n",
       "      <td>16</td>\n",
       "      <td>15</td>\n",
       "      <td>34.223992</td>\n",
       "      <td>1</td>\n",
       "    </tr>\n",
       "    <tr>\n",
       "      <td>4</td>\n",
       "      <td>k403</td>\n",
       "      <td>Ramicane</td>\n",
       "      <td>Male</td>\n",
       "      <td>21</td>\n",
       "      <td>16</td>\n",
       "      <td>20</td>\n",
       "      <td>32.997729</td>\n",
       "      <td>1</td>\n",
       "    </tr>\n",
       "    <tr>\n",
       "      <td>...</td>\n",
       "      <td>...</td>\n",
       "      <td>...</td>\n",
       "      <td>...</td>\n",
       "      <td>...</td>\n",
       "      <td>...</td>\n",
       "      <td>...</td>\n",
       "      <td>...</td>\n",
       "      <td>...</td>\n",
       "    </tr>\n",
       "    <tr>\n",
       "      <td>1888</td>\n",
       "      <td>z969</td>\n",
       "      <td>Naftisol</td>\n",
       "      <td>Male</td>\n",
       "      <td>9</td>\n",
       "      <td>30</td>\n",
       "      <td>25</td>\n",
       "      <td>63.145652</td>\n",
       "      <td>2</td>\n",
       "    </tr>\n",
       "    <tr>\n",
       "      <td>1889</td>\n",
       "      <td>z969</td>\n",
       "      <td>Naftisol</td>\n",
       "      <td>Male</td>\n",
       "      <td>9</td>\n",
       "      <td>30</td>\n",
       "      <td>30</td>\n",
       "      <td>65.841013</td>\n",
       "      <td>3</td>\n",
       "    </tr>\n",
       "    <tr>\n",
       "      <td>1890</td>\n",
       "      <td>z969</td>\n",
       "      <td>Naftisol</td>\n",
       "      <td>Male</td>\n",
       "      <td>9</td>\n",
       "      <td>30</td>\n",
       "      <td>35</td>\n",
       "      <td>69.176246</td>\n",
       "      <td>4</td>\n",
       "    </tr>\n",
       "    <tr>\n",
       "      <td>1891</td>\n",
       "      <td>z969</td>\n",
       "      <td>Naftisol</td>\n",
       "      <td>Male</td>\n",
       "      <td>9</td>\n",
       "      <td>30</td>\n",
       "      <td>40</td>\n",
       "      <td>70.314904</td>\n",
       "      <td>4</td>\n",
       "    </tr>\n",
       "    <tr>\n",
       "      <td>1892</td>\n",
       "      <td>z969</td>\n",
       "      <td>Naftisol</td>\n",
       "      <td>Male</td>\n",
       "      <td>9</td>\n",
       "      <td>30</td>\n",
       "      <td>45</td>\n",
       "      <td>73.867845</td>\n",
       "      <td>4</td>\n",
       "    </tr>\n",
       "  </tbody>\n",
       "</table>\n",
       "<p>1893 rows × 8 columns</p>\n",
       "</div>"
      ],
      "text/plain": [
       "     Mouse ID Drug Regimen   Sex  Age_months  Weight (g)  Timepoint  \\\n",
       "0        k403     Ramicane  Male          21          16          0   \n",
       "1        k403     Ramicane  Male          21          16          5   \n",
       "2        k403     Ramicane  Male          21          16         10   \n",
       "3        k403     Ramicane  Male          21          16         15   \n",
       "4        k403     Ramicane  Male          21          16         20   \n",
       "...       ...          ...   ...         ...         ...        ...   \n",
       "1888     z969     Naftisol  Male           9          30         25   \n",
       "1889     z969     Naftisol  Male           9          30         30   \n",
       "1890     z969     Naftisol  Male           9          30         35   \n",
       "1891     z969     Naftisol  Male           9          30         40   \n",
       "1892     z969     Naftisol  Male           9          30         45   \n",
       "\n",
       "      Tumor Volume (mm3)  Metastatic Sites  \n",
       "0              45.000000                 0  \n",
       "1              38.825898                 0  \n",
       "2              35.014271                 1  \n",
       "3              34.223992                 1  \n",
       "4              32.997729                 1  \n",
       "...                  ...               ...  \n",
       "1888           63.145652                 2  \n",
       "1889           65.841013                 3  \n",
       "1890           69.176246                 4  \n",
       "1891           70.314904                 4  \n",
       "1892           73.867845                 4  \n",
       "\n",
       "[1893 rows x 8 columns]"
      ]
     },
     "execution_count": 1,
     "metadata": {},
     "output_type": "execute_result"
    }
   ],
   "source": [
    "# Dependencies and Setup\n",
    "import matplotlib.pyplot as plt\n",
    "import numpy as np\n",
    "import pandas as pd\n",
    "import scipy.stats as st\n",
    "\n",
    "# Study data files\n",
    "mouse_metadata = \"data/Mouse_metadata.csv\"\n",
    "study_results = \"data/Study_results.csv\"\n",
    "\n",
    "# Read the mouse data and the study results\n",
    "mouse_metadata = pd.read_csv(mouse_metadata)\n",
    "study_results = pd.read_csv(study_results)\n",
    "\n",
    "# Combine the data into a single dataset\n",
    "complete_data = pd.merge(mouse_metadata, study_results, how=\"left\", on=\"Mouse ID\")\n",
    "\n",
    "# print the data\n",
    "complete_data"
   ]
  },
  {
   "cell_type": "markdown",
   "metadata": {},
   "source": [
    "## Summary statistics"
   ]
  },
  {
   "cell_type": "code",
   "execution_count": 2,
   "metadata": {},
   "outputs": [
    {
     "data": {
      "text/html": [
       "<div>\n",
       "<style scoped>\n",
       "    .dataframe tbody tr th:only-of-type {\n",
       "        vertical-align: middle;\n",
       "    }\n",
       "\n",
       "    .dataframe tbody tr th {\n",
       "        vertical-align: top;\n",
       "    }\n",
       "\n",
       "    .dataframe thead th {\n",
       "        text-align: right;\n",
       "    }\n",
       "</style>\n",
       "<table border=\"1\" class=\"dataframe\">\n",
       "  <thead>\n",
       "    <tr style=\"text-align: right;\">\n",
       "      <th></th>\n",
       "      <th>Mean Tumor Vol</th>\n",
       "      <th>Median Tumor Vol</th>\n",
       "      <th>Tumor Vol Variance</th>\n",
       "      <th>Tumor Vol Std. Dev.</th>\n",
       "      <th>Tumor Vol Std. Error</th>\n",
       "    </tr>\n",
       "    <tr>\n",
       "      <th>Drug Regimen</th>\n",
       "      <th></th>\n",
       "      <th></th>\n",
       "      <th></th>\n",
       "      <th></th>\n",
       "      <th></th>\n",
       "    </tr>\n",
       "  </thead>\n",
       "  <tbody>\n",
       "    <tr>\n",
       "      <td>Capomulin</td>\n",
       "      <td>40.675741</td>\n",
       "      <td>41.557809</td>\n",
       "      <td>24.947764</td>\n",
       "      <td>4.994774</td>\n",
       "      <td>0.329346</td>\n",
       "    </tr>\n",
       "    <tr>\n",
       "      <td>Ceftamin</td>\n",
       "      <td>52.591172</td>\n",
       "      <td>51.776157</td>\n",
       "      <td>39.290177</td>\n",
       "      <td>6.268188</td>\n",
       "      <td>0.469821</td>\n",
       "    </tr>\n",
       "    <tr>\n",
       "      <td>Infubinol</td>\n",
       "      <td>52.884795</td>\n",
       "      <td>51.820584</td>\n",
       "      <td>43.128684</td>\n",
       "      <td>6.567243</td>\n",
       "      <td>0.492236</td>\n",
       "    </tr>\n",
       "    <tr>\n",
       "      <td>Ketapril</td>\n",
       "      <td>55.235638</td>\n",
       "      <td>53.698743</td>\n",
       "      <td>68.553577</td>\n",
       "      <td>8.279709</td>\n",
       "      <td>0.603860</td>\n",
       "    </tr>\n",
       "    <tr>\n",
       "      <td>Naftisol</td>\n",
       "      <td>54.331565</td>\n",
       "      <td>52.509285</td>\n",
       "      <td>66.173479</td>\n",
       "      <td>8.134708</td>\n",
       "      <td>0.596466</td>\n",
       "    </tr>\n",
       "    <tr>\n",
       "      <td>Placebo</td>\n",
       "      <td>54.033581</td>\n",
       "      <td>52.288934</td>\n",
       "      <td>61.168083</td>\n",
       "      <td>7.821003</td>\n",
       "      <td>0.581331</td>\n",
       "    </tr>\n",
       "    <tr>\n",
       "      <td>Propriva</td>\n",
       "      <td>52.322552</td>\n",
       "      <td>50.854632</td>\n",
       "      <td>42.351070</td>\n",
       "      <td>6.507770</td>\n",
       "      <td>0.512884</td>\n",
       "    </tr>\n",
       "    <tr>\n",
       "      <td>Ramicane</td>\n",
       "      <td>40.216745</td>\n",
       "      <td>40.673236</td>\n",
       "      <td>23.486704</td>\n",
       "      <td>4.846308</td>\n",
       "      <td>0.320955</td>\n",
       "    </tr>\n",
       "    <tr>\n",
       "      <td>Stelasyn</td>\n",
       "      <td>54.233149</td>\n",
       "      <td>52.431737</td>\n",
       "      <td>59.450562</td>\n",
       "      <td>7.710419</td>\n",
       "      <td>0.573111</td>\n",
       "    </tr>\n",
       "    <tr>\n",
       "      <td>Zoniferol</td>\n",
       "      <td>53.236507</td>\n",
       "      <td>51.818479</td>\n",
       "      <td>48.533355</td>\n",
       "      <td>6.966589</td>\n",
       "      <td>0.516398</td>\n",
       "    </tr>\n",
       "  </tbody>\n",
       "</table>\n",
       "</div>"
      ],
      "text/plain": [
       "              Mean Tumor Vol  Median Tumor Vol  Tumor Vol Variance  \\\n",
       "Drug Regimen                                                         \n",
       "Capomulin          40.675741         41.557809           24.947764   \n",
       "Ceftamin           52.591172         51.776157           39.290177   \n",
       "Infubinol          52.884795         51.820584           43.128684   \n",
       "Ketapril           55.235638         53.698743           68.553577   \n",
       "Naftisol           54.331565         52.509285           66.173479   \n",
       "Placebo            54.033581         52.288934           61.168083   \n",
       "Propriva           52.322552         50.854632           42.351070   \n",
       "Ramicane           40.216745         40.673236           23.486704   \n",
       "Stelasyn           54.233149         52.431737           59.450562   \n",
       "Zoniferol          53.236507         51.818479           48.533355   \n",
       "\n",
       "              Tumor Vol Std. Dev.  Tumor Vol Std. Error  \n",
       "Drug Regimen                                             \n",
       "Capomulin                4.994774              0.329346  \n",
       "Ceftamin                 6.268188              0.469821  \n",
       "Infubinol                6.567243              0.492236  \n",
       "Ketapril                 8.279709              0.603860  \n",
       "Naftisol                 8.134708              0.596466  \n",
       "Placebo                  7.821003              0.581331  \n",
       "Propriva                 6.507770              0.512884  \n",
       "Ramicane                 4.846308              0.320955  \n",
       "Stelasyn                 7.710419              0.573111  \n",
       "Zoniferol                6.966589              0.516398  "
      ]
     },
     "execution_count": 2,
     "metadata": {},
     "output_type": "execute_result"
    }
   ],
   "source": [
    "# Generate a summary statistics table of mean, median, variance,\n",
    "# standard deviation, and SEM of the tumor volume for each regimen\n",
    "\n",
    "# identify each variable by grouping by the drug regimen and looking in the tumor vol column\n",
    "tumor_mean = complete_data.groupby(\"Drug Regimen\")[\"Tumor Volume (mm3)\"].mean()\n",
    "tumor_median = complete_data.groupby(\"Drug Regimen\")[\"Tumor Volume (mm3)\"].median()\n",
    "tumor_var = complete_data.groupby(\"Drug Regimen\")[\"Tumor Volume (mm3)\"].var()\n",
    "tumor_std = complete_data.groupby(\"Drug Regimen\")[\"Tumor Volume (mm3)\"].std()\n",
    "tumor_sem = complete_data.groupby(\"Drug Regimen\")[\"Tumor Volume (mm3)\"].sem()\n",
    "\n",
    "# create a table of all the information\n",
    "summary_df = pd.DataFrame({\n",
    "    \"Mean Tumor Vol\": tumor_mean,\n",
    "    \"Median Tumor Vol\": tumor_median,\n",
    "    \"Tumor Vol Variance\": tumor_var,\n",
    "    \"Tumor Vol Std. Dev.\": tumor_std,\n",
    "    \"Tumor Vol Std. Error\": tumor_sem\n",
    "})\n",
    "\n",
    "# print the table\n",
    "summary_df"
   ]
  },
  {
   "cell_type": "markdown",
   "metadata": {},
   "source": [
    "## Bar plots"
   ]
  },
  {
   "cell_type": "code",
   "execution_count": 3,
   "metadata": {},
   "outputs": [
    {
     "data": {
      "text/plain": [
       "Text(0.5, 1.0, 'Data Points per Drug Regimen')"
      ]
     },
     "execution_count": 3,
     "metadata": {},
     "output_type": "execute_result"
    },
    {
     "data": {
      "image/png": "[encoded data removed]",
      "text/plain": [
       "<Figure size 432x288 with 1 Axes>"
      ]
     },
     "metadata": {
      "needs_background": "light"
     },
     "output_type": "display_data"
    }
   ],
   "source": [
    "# Generate a bar plot showing number of data points for each treatment regimen using pandas\n",
    "\n",
    "# count all the data points for each drug\n",
    "count_drug = complete_data.groupby(\"Drug Regimen\")[\"Drug Regimen\"].count()\n",
    "\n",
    "# different colors per drug\n",
    "color_list = [\"blue\", \"orange\", \"green\", \"red\", \"purple\", \"brown\", \"pink\", \"grey\", \"gold\", \"aqua\"]\n",
    "\n",
    "# create the bar chart and set axes limits\n",
    "drug_chart = count_drug.plot(kind=\"bar\", color = color_list, rot=45)\n",
    "drug_chart.set_xlim([-0.5,9.5])\n",
    "drug_chart.set_ylim([0,240])\n",
    "\n",
    "# add labels\n",
    "drug_chart.set_ylabel(\"Number of Data Points\")\n",
    "drug_chart.set_title(\"Data Points per Drug Regimen\")"
   ]
  },
  {
   "cell_type": "code",
   "execution_count": 4,
   "metadata": {},
   "outputs": [
    {
     "data": {
      "image/png": "[encoded data removed]",
      "text/plain": [
       "<Figure size 432x288 with 1 Axes>"
      ]
     },
     "metadata": {
      "needs_background": "light"
     },
     "output_type": "display_data"
    }
   ],
   "source": [
    "# Generate a bar plot showing number of data points for each treatment regimen using pyplot\n",
    "\n",
    "# create an array of all the drugs in alphabetical order\n",
    "drug_names = []\n",
    "for drug in complete_data[\"Drug Regimen\"]:\n",
    "    if drug not in drug_names:\n",
    "        drug_names.append(drug)\n",
    "        drug_names = sorted(drug_names)\n",
    "\n",
    "# create x axis and tick locations\n",
    "x_axis = np.arange(0, len(drug_names))\n",
    "tick_locations = [] \n",
    "for x in x_axis:\n",
    "    tick_locations.append(x)\n",
    "\n",
    "# add labels\n",
    "plt.title(\"Data Points per Drug Regimen\")\n",
    "plt.xlabel(\"Drug Regimen\")\n",
    "plt.ylabel(\"Number of Data Points\")\n",
    "\n",
    "# create x and y limits using count_drug created above\n",
    "plt.xlim(-0.75, len(count_drug)-0.25)\n",
    "plt.ylim(0, max(count_drug) + 10)\n",
    "\n",
    "# put bar chart together, color the bars using the color_list above, and rotate x labels\n",
    "plt.bar(x_axis, count_drug, color=color_list, align=\"center\")\n",
    "plt.xticks(tick_locations, drug_names)\n",
    "plt.xticks(rotation=45)\n",
    "plt.show()"
   ]
  },
  {
   "cell_type": "markdown",
   "metadata": {},
   "source": [
    "## Pie plots"
   ]
  },
  {
   "cell_type": "code",
   "execution_count": 5,
   "metadata": {},
   "outputs": [
    {
     "data": {
      "text/plain": [
       "Text(0.5, 1.0, 'Percentage of Male vs Female Mice')"
      ]
     },
     "execution_count": 5,
     "metadata": {},
     "output_type": "execute_result"
    },
    {
     "data": {
      "image/png": "[encoded data removed]",
      "text/plain": [
       "<Figure size 432x288 with 1 Axes>"
      ]
     },
     "metadata": {},
     "output_type": "display_data"
    }
   ],
   "source": [
    "# Generate a pie plot showing the distribution of female versus male mice using pandas\n",
    "\n",
    "# count the number of female and male mice used\n",
    "mice_sex = complete_data.groupby(\"Sex\")[\"Sex\"].count()\n",
    "\n",
    "# create pie chart\n",
    "mice_chart = mice_sex.plot(kind = \"pie\", autopct='%1.1f%%', startangle=140)\n",
    "mice_chart.set_title(\"Percentage of Male vs Female Mice\")"
   ]
  },
  {
   "cell_type": "code",
   "execution_count": 6,
   "metadata": {},
   "outputs": [
    {
     "data": {
      "text/plain": [
       "Text(0.5, 1.0, 'Percentage of Male vs Female Mice')"
      ]
     },
     "execution_count": 6,
     "metadata": {},
     "output_type": "execute_result"
    },
    {
     "data": {
      "image/png": "[encoded data removed]",
      "text/plain": [
       "<Figure size 432x288 with 1 Axes>"
      ]
     },
     "metadata": {},
     "output_type": "display_data"
    }
   ],
   "source": [
    "# Generate a pie plot showing the distribution of female versus male mice using pyplot\n",
    "\n",
    "# Labels for the sections of our pie chart\n",
    "labels = [\"Female\", \"Male\"]\n",
    "\n",
    "# Creates the pie chart based upon the mice_sex values above\n",
    "# Automatically finds the percentages of each part of the pie chart\n",
    "plt.pie(mice_sex, labels=labels, autopct=\"%1.1f%%\", shadow=False, startangle=140)\n",
    "plt.ylabel(\"Sex\")\n",
    "plt.title(\"Percentage of Male vs Female Mice\")"
   ]
  },
  {
   "cell_type": "markdown",
   "metadata": {},
   "source": [
    "## Quartiles, outliers and boxplots"
   ]
  },
  {
   "cell_type": "code",
   "execution_count": 7,
   "metadata": {},
   "outputs": [
    {
     "name": "stdout",
     "output_type": "stream",
     "text": [
      "The lower quartile of Capomulin is: 32.37735684\n",
      "The upper quartile of Capomulin is: 40.1592203\n",
      "The interquartile range of Capomulin is: 7.781863460000004\n",
      "The the median of Capomulin is: 38.125164399999996 \n",
      "Values below 20.70456164999999 could be outliers.\n",
      "Values above 51.83201549 could be outliers.\n",
      "There are 0 outliers for the drug Capomulin.\n",
      "-----------------------------------------------------\n",
      "The lower quartile of Ramicane is: 31.56046955\n",
      "The upper quartile of Ramicane is: 40.65900627\n",
      "The interquartile range of Ramicane is: 9.098536719999998\n",
      "The the median of Ramicane is: 36.56165229 \n",
      "Values below 17.912664470000003 could be outliers.\n",
      "Values above 54.30681135 could be outliers.\n",
      "There are 0 outliers for the drug Ramicane.\n",
      "-----------------------------------------------------\n",
      "The lower quartile of Infubinol is: 54.04860769\n",
      "The upper quartile of Infubinol is: 65.52574285\n",
      "The interquartile range of Infubinol is: 11.477135160000003\n",
      "The the median of Infubinol is: 60.16518046 \n",
      "Values below 36.83290494999999 could be outliers.\n",
      "Values above 82.74144559000001 could be outliers.\n",
      "There is 1 outlier for the drug Infubinol.\n",
      "The outlier is 36.321345799999996.\n",
      "-----------------------------------------------------\n",
      "The lower quartile of Ceftamin is: 48.72207785\n",
      "The upper quartile of Ceftamin is: 64.29983003\n",
      "The interquartile range of Ceftamin is: 15.577752179999997\n",
      "The the median of Ceftamin is: 59.85195552 \n",
      "Values below 25.355449580000002 could be outliers.\n",
      "Values above 87.66645829999999 could be outliers.\n",
      "There are 0 outliers for the drug Ceftamin.\n",
      "-----------------------------------------------------\n"
     ]
    }
   ],
   "source": [
    "# Calculate the final tumor volume of each mouse across four of the most promising treatment regimens.\n",
    "# group data by Mouse ID and find the max Timepoint, use this to find the final tumor vol\n",
    "# https://stackoverflow.com/questions/15705630/get-the-rows-which-have-the-max-value-in-groups-using-groupby\n",
    "idx = complete_data.groupby(\"Mouse ID\")[\"Timepoint\"].transform(max) == complete_data[\"Timepoint\"]\n",
    "max_timepoint = complete_data[idx]\n",
    "\n",
    "# create an array for each of the four most promising treatment regimens\n",
    "capomulin = max_timepoint.loc[max_timepoint[\"Drug Regimen\"] == \"Capomulin\", \"Tumor Volume (mm3)\"]\n",
    "ramicane = max_timepoint.loc[max_timepoint[\"Drug Regimen\"] == \"Ramicane\", \"Tumor Volume (mm3)\"]\n",
    "infubinol = max_timepoint.loc[max_timepoint[\"Drug Regimen\"] == \"Infubinol\", \"Tumor Volume (mm3)\"]\n",
    "ceftamin = max_timepoint.loc[max_timepoint[\"Drug Regimen\"] == \"Ceftamin\", \"Tumor Volume (mm3)\"]\n",
    "\n",
    "# Calculate the quartiles and IQR  from each of the above arrays\n",
    "# Quantitatively determine if there are any potential outliers.\n",
    "ca_quartiles = capomulin.quantile([.25,.5,.75])\n",
    "ca_lowerq = ca_quartiles[0.25]\n",
    "ca_upperq = ca_quartiles[0.75]\n",
    "ca_iqr = ca_upperq-ca_lowerq\n",
    "ca_lower_bound = ca_lowerq - (1.5*ca_iqr)\n",
    "ca_upper_bound = ca_upperq + (1.5*ca_iqr)\n",
    "outlier_ca = capomulin.loc[(capomulin < ca_lower_bound) | (capomulin > ca_upper_bound)]\n",
    "\n",
    "print(f\"The lower quartile of Capomulin is: {ca_lowerq}\")\n",
    "print(f\"The upper quartile of Capomulin is: {ca_upperq}\")\n",
    "print(f\"The interquartile range of Capomulin is: {ca_iqr}\")\n",
    "print(f\"The the median of Capomulin is: {ca_quartiles[0.5]} \")\n",
    "print(f\"Values below {ca_lower_bound} could be outliers.\")\n",
    "print(f\"Values above {ca_upper_bound} could be outliers.\")\n",
    "print(f\"There are {len(outlier_ca)} outliers for the drug Capomulin.\")\n",
    "print(\"-----------------------------------------------------\")\n",
    "\n",
    "r_quartiles = ramicane.quantile([.25,.5,.75])\n",
    "r_lowerq = r_quartiles[0.25]\n",
    "r_upperq = r_quartiles[0.75]\n",
    "r_iqr = r_upperq-r_lowerq\n",
    "r_lower_bound = r_lowerq - (1.5*r_iqr)\n",
    "r_upper_bound = r_upperq + (1.5*r_iqr)\n",
    "outlier_r = ramicane.loc[(ramicane < r_lower_bound) | (ramicane > r_upper_bound)]\n",
    "\n",
    "print(f\"The lower quartile of Ramicane is: {r_lowerq}\")\n",
    "print(f\"The upper quartile of Ramicane is: {r_upperq}\")\n",
    "print(f\"The interquartile range of Ramicane is: {r_iqr}\")\n",
    "print(f\"The the median of Ramicane is: {r_quartiles[0.5]} \")\n",
    "print(f\"Values below {r_lower_bound} could be outliers.\")\n",
    "print(f\"Values above {r_upper_bound} could be outliers.\")\n",
    "print(f\"There are {len(outlier_r)} outliers for the drug Ramicane.\")\n",
    "print(\"-----------------------------------------------------\")\n",
    "\n",
    "i_quartiles = infubinol.quantile([.25,.5,.75])\n",
    "i_lowerq = i_quartiles[0.25]\n",
    "i_upperq = i_quartiles[0.75]\n",
    "i_iqr = i_upperq-i_lowerq\n",
    "i_lower_bound = i_lowerq - (1.5*i_iqr)\n",
    "i_upper_bound = i_upperq + (1.5*i_iqr)\n",
    "outlier_i = infubinol.loc[(infubinol < i_lower_bound) | (infubinol > i_upper_bound)]\n",
    "\n",
    "print(f\"The lower quartile of Infubinol is: {i_lowerq}\")\n",
    "print(f\"The upper quartile of Infubinol is: {i_upperq}\")\n",
    "print(f\"The interquartile range of Infubinol is: {i_iqr}\")\n",
    "print(f\"The the median of Infubinol is: {i_quartiles[0.5]} \")\n",
    "print(f\"Values below {i_lower_bound} could be outliers.\")\n",
    "print(f\"Values above {i_upper_bound} could be outliers.\")\n",
    "print(f\"There is {len(outlier_i)} outlier for the drug Infubinol.\")\n",
    "print(f\"The outlier is {outlier_i.min()}.\")\n",
    "print(\"-----------------------------------------------------\")\n",
    "\n",
    "c_quartiles = ceftamin.quantile([.25,.5,.75])\n",
    "c_lowerq = c_quartiles[0.25]\n",
    "c_upperq = c_quartiles[0.75]\n",
    "c_iqr = c_upperq-c_lowerq\n",
    "c_lower_bound = c_lowerq - (1.5*c_iqr)\n",
    "c_upper_bound = c_upperq + (1.5*c_iqr)\n",
    "outlier_c = ceftamin.loc[(ceftamin < c_lower_bound) | (ceftamin > c_upper_bound)]\n",
    "\n",
    "print(f\"The lower quartile of Ceftamin is: {c_lowerq}\")\n",
    "print(f\"The upper quartile of Ceftamin is: {c_upperq}\")\n",
    "print(f\"The interquartile range of Ceftamin is: {c_iqr}\")\n",
    "print(f\"The the median of Ceftamin is: {c_quartiles[0.5]} \")\n",
    "print(f\"Values below {c_lower_bound} could be outliers.\")\n",
    "print(f\"Values above {c_upper_bound} could be outliers.\")\n",
    "print(f\"There are {len(outlier_c)} outliers for the drug Ceftamin.\")\n",
    "print(\"-----------------------------------------------------\")"
   ]
  },
  {
   "cell_type": "code",
   "execution_count": 8,
   "metadata": {},
   "outputs": [
    {
     "data": {
      "image/png": "[encoded data removed]",
      "text/plain": [
       "<Figure size 432x288 with 1 Axes>"
      ]
     },
     "metadata": {
      "needs_background": "light"
     },
     "output_type": "display_data"
    }
   ],
   "source": [
    "# Combine four different drug arrays together\n",
    "var = [capomulin,ramicane,infubinol,ceftamin]\n",
    "\n",
    "# Generate a box plot of the final tumor volume of each mouse across four regimens of interest\n",
    "green_diamond = dict(markerfacecolor='g', marker='D')\n",
    "fig1, ax1 = plt.subplots()\n",
    "ax1.set_title('Boxplots for the 4 Most Promising Drug Regimens')\n",
    "ax1.set_xlabel('Drug Names')\n",
    "ax1.set_ylabel('Final Tumor Volume (mm3) per Mouse')\n",
    "ax1.boxplot(var, flierprops=green_diamond)\n",
    "plt.xticks([1,2,3,4],['Capomulin','Ramicane','Infubinol','Ceftamin'])\n",
    "plt.xlim(0.5,4.5)\n",
    "plt.ylim(20,74)\n",
    "plt.show()"
   ]
  },
  {
   "cell_type": "markdown",
   "metadata": {},
   "source": [
    "## Line and scatter plots"
   ]
  },
  {
   "cell_type": "code",
   "execution_count": 9,
   "metadata": {},
   "outputs": [
    {
     "data": {
      "image/png": "[encoded data removed]",
      "text/plain": [
       "<Figure size 432x288 with 1 Axes>"
      ]
     },
     "metadata": {
      "needs_background": "light"
     },
     "output_type": "display_data"
    }
   ],
   "source": [
    "# Generate a line plot of time point versus tumor volume for a mouse treated with Capomulin\n",
    "\n",
    "# pick one Mouse\n",
    "one_mouse = complete_data[complete_data[\"Mouse ID\"]==\"s185\"]\n",
    "\n",
    "# identify the x and y axis info\n",
    "x_axis = one_mouse[\"Timepoint\"]\n",
    "y_axis = one_mouse[\"Tumor Volume (mm3)\"]\n",
    "\n",
    "# create a line plot\n",
    "plt.plot(x_axis,y_axis)\n",
    "\n",
    "# add labels\n",
    "plt.xlabel(\"Timepoint\")\n",
    "plt.ylabel(\"Tumor Volume (mm3)\")\n",
    "plt.title(\"Mouse (s185) treated with Capomulin\")\n",
    "plt.xlim(-1,46)\n",
    "plt.ylim(22,46)\n",
    "plt.show()"
   ]
  },
  {
   "cell_type": "code",
   "execution_count": 10,
   "metadata": {},
   "outputs": [
    {
     "data": {
      "text/plain": [
       "Text(0.5, 1.0, 'Mice for the Capomulin regimen')"
      ]
     },
     "execution_count": 10,
     "metadata": {},
     "output_type": "execute_result"
    },
    {
     "data": {
      "image/png": "[encoded data removed]",
      "text/plain": [
       "<Figure size 432x288 with 1 Axes>"
      ]
     },
     "metadata": {
      "needs_background": "light"
     },
     "output_type": "display_data"
    }
   ],
   "source": [
    "# Generate a scatter plot of mouse weight versus average tumor volume for the Capomulin regimen\n",
    "\n",
    "# filter for only the Capomulin regimen, then group by Mouse\n",
    "one_drug = complete_data[complete_data[\"Drug Regimen\"]==\"Capomulin\"]\n",
    "drug_permouse = one_drug.groupby(\"Mouse ID\")\n",
    "\n",
    "# Identify the x and y axes\n",
    "weight = drug_permouse[\"Weight (g)\"].min()\n",
    "avg_tv = drug_permouse[\"Tumor Volume (mm3)\"].mean()\n",
    "\n",
    "# create scatter plot\n",
    "plt.scatter(weight,avg_tv)\n",
    "plt.xlim(14,26)\n",
    "plt.ylim(33,47)\n",
    "\n",
    "# add labels\n",
    "plt.xlabel(\"Weight (g) per Mouse\")\n",
    "plt.ylabel(\"Average Tumor Volume (mm3) per Mouse\")\n",
    "plt.title(\"Mice for the Capomulin regimen\")"
   ]
  },
  {
   "cell_type": "code",
   "execution_count": 11,
   "metadata": {},
   "outputs": [
    {
     "name": "stdout",
     "output_type": "stream",
     "text": [
      "The Correlation Coefficient is: 0.84\n",
      "The linear regression equation is: y = 0.95x + 21.55\n"
     ]
    },
    {
     "data": {
      "image/png": "[encoded data removed]",
      "text/plain": [
       "<Figure size 432x288 with 1 Axes>"
      ]
     },
     "metadata": {
      "needs_background": "light"
     },
     "output_type": "display_data"
    }
   ],
   "source": [
    "# Calculate the correlation coefficient and linear regression model for\n",
    "# mouse weight and average tumor volume for the Capomulin regimen\n",
    "(slope, intercept, rvalue, pvalue, stderr) = st.linregress(weight, avg_tv)\n",
    "regress_values = weight * slope + intercept\n",
    "line_eq = \"y = \" + str(round(slope,2)) + \"x + \" + str(round(intercept,2))\n",
    "\n",
    "# create scatter plot with labels\n",
    "plt.scatter(weight,avg_tv)\n",
    "plt.xlim(14,26)\n",
    "plt.ylim(33,47)\n",
    "plt.plot(weight,regress_values,\"r-\")\n",
    "plt.xlabel(\"Weight (g) per Mouse\")\n",
    "plt.ylabel(\"Average Tumor Volume (mm3) per Mouse\")\n",
    "plt.title(\"Mice for the Capomulin regimen\")\n",
    "print(f\"The Correlation Coefficient is: {round(st.pearsonr(weight,avg_tv)[0],2)}\")\n",
    "print(f\"The linear regression equation is: {line_eq}\")\n",
    "plt.show()\n",
    "\n",
    "# To see p-value\n",
    "# print(st.pearsonr(weight,avg_tv))"
   ]
  },
  {
   "cell_type": "code",
   "execution_count": null,
   "metadata": {},
   "outputs": [],
   "source": []
  }
 ],
 "metadata": {
  "anaconda-cloud": {},
  "kernelspec": {
   "display_name": "Python 3",
   "language": "python",
   "name": "python3"
  },
  "language_info": {
   "codemirror_mode": {
    "name": "ipython",
    "version": 3
   },
   "file_extension": ".py",
   "mimetype": "text/x-python",
   "name": "python",
   "nbconvert_exporter": "python",
   "pygments_lexer": "ipython3",
   "version": "3.7.4"
  }
 },
 "nbformat": 4,
 "nbformat_minor": 2
}
